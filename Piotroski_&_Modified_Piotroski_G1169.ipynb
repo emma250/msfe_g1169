{
  "nbformat": 4,
  "nbformat_minor": 0,
  "metadata": {
    "colab": {
      "provenance": []
    },
    "kernelspec": {
      "name": "python3",
      "display_name": "Python 3"
    },
    "language_info": {
      "name": "python"
    }
  },
  "cells": [
    {
      "cell_type": "markdown",
      "source": [
        "# Library Import"
      ],
      "metadata": {
        "id": "x_sPtSgBPZTb"
      }
    },
    {
      "cell_type": "markdown",
      "source": [
        "We be using some packages to do the analysis and also extract data from nsepy and fundamentalanalysis website. "
      ],
      "metadata": {
        "id": "CN1CgnGhPhJi"
      }
    },
    {
      "cell_type": "code",
      "execution_count": null,
      "metadata": {
        "id": "THHl31XtpOUv"
      },
      "outputs": [],
      "source": [
        "!pip install nsepy --quiet"
      ]
    },
    {
      "cell_type": "code",
      "source": [
        "!pip install fundamentalanalysis --quiet"
      ],
      "metadata": {
        "id": "kQDsiauDRrEk"
      },
      "execution_count": null,
      "outputs": []
    },
    {
      "cell_type": "code",
      "source": [
        "import pandas as pd\n",
        "from nsepy import get_history\n",
        "from datetime import date\n",
        "import fundamentalanalysis as fa"
      ],
      "metadata": {
        "id": "LgfTRIf-vYxG"
      },
      "execution_count": null,
      "outputs": []
    },
    {
      "cell_type": "markdown",
      "source": [
        "## Key in own API key from from https://site.financialmodelingprep.com/developer/docs/"
      ],
      "metadata": {
        "id": "8lt44g8qY1H7"
      }
    },
    {
      "cell_type": "markdown",
      "source": [
        "Thereafter, extract the data and store it in github to avoid having to call APIs repeatedly which is chargeable."
      ],
      "metadata": {
        "id": "YoA4Pz6ORPtO"
      }
    },
    {
      "cell_type": "code",
      "source": [
        "YOUR_API_KEY = 'key in your own api'"
      ],
      "metadata": {
        "id": "KPo0ywHYZvOi"
      },
      "execution_count": null,
      "outputs": []
    },
    {
      "cell_type": "code",
      "source": [
        "# get data from our github repo\n",
        "!git clone https://github.com/emma250/Group_1169_DataSet.git --quiet"
      ],
      "metadata": {
        "id": "cMb9KOiLsHh7"
      },
      "execution_count": null,
      "outputs": []
    },
    {
      "cell_type": "code",
      "source": [
        "us_df = pd.read_excel('/content/Group_1169_DataSet/Copy of 30 STOCKS.xlsx')\n",
        "india_df= pd.read_csv('/content/Group_1169_DataSet/mbfm_data - Sheet1.csv')\n",
        "df_tickers = pd.read_csv('/content/Group_1169_DataSet/ind_nifty50list.csv')\n",
        "\n",
        "nifty50_tickers = list(df_tickers['Symbol'])\n",
        "us30_tickers = list(us_df['Ticker'].dropna().unique())"
      ],
      "metadata": {
        "id": "w0sgwqG0pwCL"
      },
      "execution_count": null,
      "outputs": []
    },
    {
      "cell_type": "markdown",
      "source": [
        "### Utility Function to read data"
      ],
      "metadata": {
        "id": "5XRJBb2UcG32"
      }
    },
    {
      "cell_type": "code",
      "source": [
        "#!/usr/bin/env python\n",
        "try:\n",
        "    # For Python 3.0 and later\n",
        "    from urllib.request import urlopen\n",
        "except ImportError:\n",
        "    # Fall back to Python 2's urllib2\n",
        "    from urllib2 import urlopen\n",
        "\n",
        "import certifi\n",
        "import json\n",
        "\n",
        "def get_jsonparsed_data(url):\n",
        "    response = urlopen(url, cafile=certifi.where())\n",
        "    data = response.read().decode(\"utf-8\")\n",
        "    return json.loads(data)"
      ],
      "metadata": {
        "id": "QH-N8H62Zm9f"
      },
      "execution_count": null,
      "outputs": []
    },
    {
      "cell_type": "code",
      "source": [
        "# url = (f'https://financialmodelingprep.com/api/v3/financial-statement-symbol-lists?apikey={YOUR_API_KEY}')\n",
        "# stock_list = get_jsonparsed_data(url)"
      ],
      "metadata": {
        "id": "sDW6Edu7Whvv"
      },
      "execution_count": null,
      "outputs": []
    },
    {
      "cell_type": "markdown",
      "source": [
        "# Exisiting algorithm to find Piotrosk F_Score"
      ],
      "metadata": {
        "id": "xwyYtcBjplp_"
      }
    },
    {
      "cell_type": "markdown",
      "source": [
        "\n",
        "This cell defines a function called \"calculate_piotroski_score\" that calculates a Piotroski score for a given stock ticker and a specified year. Here we evaluate a company's financial health based on several criteria related to profitability, leverage, liquidity, source of funds, and operating efficiency. The function reads financial data for the specified stock ticker and year from a dataframe (df) and calculates the Piotroski score based on the criteria. The function returns a tuple containing the stock ticker and the calculated Piotroski score.\n"
      ],
      "metadata": {
        "id": "nQZl3JjY3jym"
      }
    },
    {
      "cell_type": "markdown",
      "source": [
        "In the existing F-Score Model:\n",
        "1. Profitability Criteria: Positive NI\n",
        "2. Profitability Criteria: Positive ROA\n",
        "3. Profitability Criteria: Positive Operating CF\n",
        "4. Profitability Criteria: Operating CF > NI\n",
        "5. Liquidity Criteria: Low Long Term Debt Ratio\n",
        "6. Liquidity Criteria: Low Current Ratio\n",
        "7. Liquidity Criteria: Low Shares Issuance\n",
        "8. Operating Efficiency Criteria: Gross Margin Turnover Positive\n",
        "9. Operating Efficiency Criteria: Asset Turnover Positive"
      ],
      "metadata": {
        "id": "xJvRJJyU_fJ_"
      }
    },
    {
      "cell_type": "code",
      "source": [
        "def calculate_piotroski_score(df, ticker, year = 11, country='india'):\n",
        "   \n",
        "    p_score = 0\n",
        "    \n",
        "    if country == 'india':\n",
        "      year1 = 'Mar-'+str(year)\n",
        "      year0 = 'Mar-'+str(year-1)\n",
        "    else:\n",
        "      year1 = int('20'+str(year))\n",
        "      year0 = int('20'+str(year-1))\n",
        "\n",
        "# Profitability Criteria\n",
        "    # Positive NI\n",
        "    for i in range(0,len(df.index)):\n",
        "        if (df['Ticker'][i] == ticker):\n",
        "            break\n",
        "            \n",
        "    for j in range(i,len(df.index)):\n",
        "        if (df['Entry'][j] == 'Net Profit'):\n",
        "            net_inc = float(df[year1][j])\n",
        "            if(str(net_inc)=='nan'):\n",
        "                return (ticker, 'data not available')\n",
        "        \n",
        "            if (net_inc> 0):\n",
        "                p_score+=1\n",
        "                break \n",
        "    \n",
        "    # Positive ROA\n",
        "    for j in range(i,len(df.index)):\n",
        "        if (df['Entry'][j] == 'Total Assets'):\n",
        "            tot_assets = float(df[year1][j])\n",
        "            break\n",
        "            \n",
        "    if (net_inc/tot_assets>0):\n",
        "        p_score+=1\n",
        "\n",
        "    # Positive Operating CF \n",
        "    for j in range(i,len(df.index)):\n",
        "        if (df['Entry'][j] == 'Cash from Operating Activity +'):\n",
        "            ocf = float(df[year1][j])\n",
        "            \n",
        "            break\n",
        "            \n",
        "    if (ocf>0):\n",
        "        p_score+=1\n",
        "    \n",
        "    # Operating CF > NI \n",
        "    if(ocf > net_inc):\n",
        "        p_score+=1\n",
        "\n",
        "# Leverage, Liquidity, and Source of Funds Criteria\n",
        "    # Lower ratio of long term debt in current year compared to last year\n",
        "    \n",
        "    for j in range(i,len(df.index)):\n",
        "        if (df['Entry'][j] == 'Share Capital +'):\n",
        "            stock_equity1 = float(df[year1][j])\n",
        "            stock_equity2 = float(df[year0][j])\n",
        "            break\n",
        "            \n",
        "    for j in range(i,len(df.index)): \n",
        "        if (df['Entry'][j] == 'Borrowings'):\n",
        "            borrowing1 =float(df[year1][j])\n",
        "            borrowing2 =float(df[year0][j])\n",
        "            break\n",
        "            \n",
        "    # for j in range(i,len(df.index)):\n",
        "    #     if (df['Entry'][j] == 'Reserves'):\n",
        "    #         reserves1 =float(df[year1][j])\n",
        "    #         reserves2 =float(df[year0][j])\n",
        "    #         break\n",
        "            \n",
        "    for j in range(i,len(df.index)):\n",
        "        if (df['Entry'][j] == 'Total Liabilities'):\n",
        "            tot_liabilities1 =float(df[year1][j])\n",
        "            tot_liabilities2 =float(df[year0][j])\n",
        "            break\n",
        "            \n",
        "    long_term_debt1 = borrowing1\n",
        "    long_term_debt2 = borrowing2\n",
        "    liabilities1 = tot_liabilities1 - stock_equity1\n",
        "    liabilities2 = tot_liabilities2 - stock_equity2\n",
        "    \n",
        "    if(long_term_debt1/liabilities1 > long_term_debt2/liabilities2):\n",
        "        p_score+=1\n",
        "        \n",
        "    # Higher Current Ratio\n",
        "    \n",
        "    for j in range(i,len(df.index)):\n",
        "        if (df['Entry'][j] == 'Other Liabilities +'):\n",
        "            current_liabilities1 =float(df[year1][j])\n",
        "            current_liabilities2 =float(df[year0][j])\n",
        "            break\n",
        "    \n",
        "    for j in range(i,len(df.index)):\n",
        "        if (df['Entry'][j] == 'Other Assets +'):\n",
        "            current_assets1 =float(df[year1][j])\n",
        "            current_assets2 =float(df[year0][j])\n",
        "            break\n",
        "    \n",
        "    current_ratio1 = current_assets1/current_liabilities1\n",
        "    if current_liabilities2 == 0:\n",
        "      current_ratio2 = 0\n",
        "    else:\n",
        "      current_ratio2 = current_assets2/current_liabilities2\n",
        "    \n",
        "    if(current_ratio2>current_ratio1):\n",
        "        p_score+=1\n",
        "        \n",
        "    # No new shares issued\n",
        "    for j in range(i,len(df.index)):\n",
        "        if (df['Entry'][j] == 'Share Capital +'):\n",
        "            stock_equity1 =float(df[year1][j])\n",
        "            stock_equity2 =float(df[year0][j])\n",
        "            break\n",
        "            \n",
        "    if (stock_equity1==stock_equity2):\n",
        "            p_score+=1\n",
        "\n",
        "# Operating Efficiency Criteria\n",
        "    # Higher Gross Margin in current year compared to last year\n",
        "    for j in range(i,len(df.index)):\n",
        "        if (df['Entry'][j] == 'Sales +' or df['Entry'][j] == 'Revenue'):\n",
        "            sales1 =float(df[year1][j])\n",
        "            sales2 =float(df[year0][j])\n",
        "            break\n",
        "    \n",
        "    for j in range(i,len(df.index)):\n",
        "        if (df['Entry'][j] == 'Operating Profit' or df['Entry'][j] == 'Financing Profit'):\n",
        "            operating_profit1 =float(df[year1][j])\n",
        "            operating_profit2 =float(df[year0][j])\n",
        "            break\n",
        "            \n",
        "    if (operating_profit2/sales2 > operating_profit1/sales1):\n",
        "            p_score+=1\n",
        "    \n",
        "    # Higher Asset Turnover in current year compared to last year\n",
        "    for j in range(i,len(df.index)):\n",
        "        if (df['Entry'][j] == 'Total Assets'):\n",
        "            tot_assets1 =float(df[year1][j])\n",
        "            tot_assets2 =float(df[year0][j])\n",
        "            break\n",
        "            \n",
        "    asset_turnover1 = sales1/tot_assets1\n",
        "    asset_turnover2 = sales2/tot_assets2\n",
        "    \n",
        "    if (asset_turnover2 > asset_turnover1):\n",
        "        p_score+=1\n",
        "    \n",
        "    return (ticker, p_score)"
      ],
      "metadata": {
        "id": "KqcIug7xpVCZ"
      },
      "execution_count": null,
      "outputs": []
    },
    {
      "cell_type": "markdown",
      "source": [
        "# Modified Piotroski F_Score"
      ],
      "metadata": {
        "id": "hT_9AI6qvJxK"
      }
    },
    {
      "cell_type": "markdown",
      "source": [
        "\n",
        "The next few cell are functions we have created to modify the F-Score to improve the measurement of a given company taking into consideartion of overcoming the limitations of the original F-Score."
      ],
      "metadata": {
        "id": "fMrJm4sUCzqP"
      }
    },
    {
      "cell_type": "markdown",
      "source": [
        "In the modified F-Score Model:\n",
        "1. Profitability Criteria: Positive NI\n",
        "2. Profitability Criteria: Positive ROA\n",
        "3. Profitability Criteria: Positive Operating CF\n",
        "4. Profitability Criteria: Operating CF > NI\n",
        "5. Liquidity Criteria: Low Long Term Debt Ratio\n",
        "6. Liquidity Criteria: Low Current Ratio\n",
        "7. Liquidity Criteria: Low Shares Issuance\n",
        "8. Operating Efficiency Criteria: Gross Margin Turnover Positive\n",
        "9. Operating Efficiency Criteria: Asset Turnover Positive\n",
        "10. Added Historical Price of Stocks\n",
        "11. Added Share Capital\n",
        "12. Added Earnings per Share\n",
        "13. Added Reserves\n",
        "14. Added Tax\n",
        "15. Added Depreciation\n",
        "16. Combined with Ebita and other ratios\n",
        "\n"
      ],
      "metadata": {
        "id": "vW-qtmG5DA0C"
      }
    },
    {
      "cell_type": "code",
      "source": [
        "def get_historical_price(ticker, start_date, count = 0, country='india'):\n",
        "  if country == 'india':\n",
        "    data = get_history(symbol=ticker, start=start_date, end = start_date)\n",
        "\n",
        "    if count>=4:\n",
        "        return \n",
        "    try:\n",
        "        price = float(data['Close'][0])\n",
        "\n",
        "    except IndexError:\n",
        "        new_start_date = date.fromordinal(start_date.toordinal()-1)\n",
        "        count+=1\n",
        "        price = get_historical_price(ticker,new_start_date,count, country)\n",
        "\n",
        "  else:\n",
        "\n",
        "    url = (f'https://financialmodelingprep.com/api/v3/quote-short/{ticker}?apikey={YOUR_API_KEY}')\n",
        "    stock_list = get_jsonparsed_data(url)\n",
        "    price = stock_list[0]['price']\n",
        "\n",
        "  return price"
      ],
      "metadata": {
        "id": "U4mN83TwvOBd"
      },
      "execution_count": null,
      "outputs": []
    },
    {
      "cell_type": "code",
      "source": [
        "def get_shares_outstanding(df, net_income, ticker, year1):\n",
        "    \n",
        "    for j in range(i,len(df.index)):\n",
        "        if (df['Entry'][j] == 'EPS in Rs'):\n",
        "            eps = float(df[year1][j])\n",
        "            break\n",
        "    shares_outstanding = net_income/eps\n",
        "    return shares_outstanding"
      ],
      "metadata": {
        "id": "pjbIRsuUvi0M"
      },
      "execution_count": null,
      "outputs": []
    },
    {
      "cell_type": "code",
      "source": [
        "def get_mv(df, ticker,year,net_income, input_country='india'):\n",
        "  if input_country == 'india':\n",
        "    year1 = 'Mar-'+str(year)\n",
        "    int_year = 2000+year\n",
        "  else:\n",
        "    year1 = int('20'+str(year))\n",
        "    int_year = 2000+year\n",
        "\n",
        "  num_shares = get_shares_outstanding(df, net_income,ticker, year1)\n",
        "  price = get_historical_price(ticker, date(int_year,3,31), count=0, country=input_country)\n",
        "\n",
        "  if price is None:\n",
        "      return\n",
        "  else:\n",
        "      mv = num_shares * price\n",
        "  return mv"
      ],
      "metadata": {
        "id": "Y_C3DrO-vnbX"
      },
      "execution_count": null,
      "outputs": []
    },
    {
      "cell_type": "code",
      "source": [
        "def get_net_income(df, ticker, year1):\n",
        "    \n",
        "    for j in range(i,len(df.index)):\n",
        "        if (df['Entry'][j] == 'Net Profit'):\n",
        "            net_inc = float(df[year1][j])\n",
        "            if(str(net_inc)=='nan'):\n",
        "                return \n",
        "            else:\n",
        "                return net_inc "
      ],
      "metadata": {
        "id": "yc2cFoSKvsY1"
      },
      "execution_count": null,
      "outputs": []
    },
    {
      "cell_type": "code",
      "source": [
        "def get_ocf(df, ticker,year1):\n",
        "    \n",
        "    for j in range(i,len(df.index)):\n",
        "        \n",
        "        if (df['Entry'][j] == 'Cash from Operating Activity +'):\n",
        "            ocf =float(df[year1][j])\n",
        "            if(str(ocf)=='nan'):\n",
        "                return \n",
        "            else:\n",
        "                return ocf"
      ],
      "metadata": {
        "id": "S6BQ7HO4vukQ"
      },
      "execution_count": null,
      "outputs": []
    },
    {
      "cell_type": "code",
      "source": [
        "def get_se(df, ticker,year1):\n",
        "    \n",
        "    for j in range(i,len(df.index)):\n",
        "        \n",
        "        if (df['Entry'][j] == 'Share Capital +'):\n",
        "            se =float(df[year1][j])\n",
        "            break\n",
        "    return se"
      ],
      "metadata": {
        "id": "Fw9U-jvcvyjS"
      },
      "execution_count": null,
      "outputs": []
    },
    {
      "cell_type": "code",
      "source": [
        "def get_borrowings(df, ticker,year1):\n",
        "    \n",
        "    for j in range(i,len(df.index)):\n",
        "        \n",
        "        if (df['Entry'][j] == 'Borrowings'):\n",
        "            borrowings =float(df[year1][j])\n",
        "            break\n",
        "    return borrowings"
      ],
      "metadata": {
        "id": "K0ZDvtuPv3Ab"
      },
      "execution_count": null,
      "outputs": []
    },
    {
      "cell_type": "code",
      "source": [
        "def get_reserves(df, ticker,year1):\n",
        "   \n",
        "    for j in range(i,len(df.index)):\n",
        "        \n",
        "        if (df['Entry'][j] == 'Reserves'):\n",
        "            reserves =float(df[year1][j])\n",
        "            break\n",
        "    return reserves"
      ],
      "metadata": {
        "id": "myhwI6mdv6ok"
      },
      "execution_count": null,
      "outputs": []
    },
    {
      "cell_type": "code",
      "source": [
        "def get_tot_liabilities(df, ticker,year1):\n",
        "    \n",
        "    for j in range(i,len(df.index)):\n",
        "        \n",
        "        if (df['Entry'][j] == 'Total Liabilities'):\n",
        "            tot_liabilities =float(df[year1][j])\n",
        "            break\n",
        "    return tot_liabilities"
      ],
      "metadata": {
        "id": "dUL21dVHv-Sn"
      },
      "execution_count": null,
      "outputs": []
    },
    {
      "cell_type": "code",
      "source": [
        "def get_current_liabilities(df, ticker,year1):\n",
        "    \n",
        "    for j in range(i,len(df.index)):\n",
        "        \n",
        "        if (df['Entry'][j] == 'Other Liabilities +'):\n",
        "            current_liabilities =float(df[year1][j])\n",
        "            break\n",
        "    return current_liabilities"
      ],
      "metadata": {
        "id": "gDhN0WDewBk2"
      },
      "execution_count": null,
      "outputs": []
    },
    {
      "cell_type": "code",
      "source": [
        "def get_other_assets(df, ticker,year1):\n",
        "    \n",
        "    for j in range(i,len(df.index)):\n",
        "        \n",
        "        if (df['Entry'][j] == 'Other Assets +'):\n",
        "            current_assets =float(df[year1][j])\n",
        "            break\n",
        "    return current_assets\n",
        "    "
      ],
      "metadata": {
        "id": "BIL5OIf2wE5g"
      },
      "execution_count": null,
      "outputs": []
    },
    {
      "cell_type": "code",
      "source": [
        "def get_sales(df, ticker,year1):\n",
        "    \n",
        "    for j in range(i,len(df.index)):\n",
        "            \n",
        "        if (df['Entry'][j] == 'Sales +' or df['Entry'][j] == 'Revenue'):\n",
        "            sales =float(df[year1][j])\n",
        "            return sales"
      ],
      "metadata": {
        "id": "HsYf7CcPwJva"
      },
      "execution_count": null,
      "outputs": []
    },
    {
      "cell_type": "code",
      "source": [
        "def get_operating_profit(df, ticker,year1):\n",
        "    \n",
        "    for j in range(i,len(df.index)):\n",
        "            \n",
        "        if (df['Entry'][j] == 'Operating Profit' or df['Entry'][j] == 'Financing Profit'):\n",
        "            op =float(df[year1][j])\n",
        "            return op"
      ],
      "metadata": {
        "id": "Dq1uBhc2wcBi"
      },
      "execution_count": null,
      "outputs": []
    },
    {
      "cell_type": "code",
      "source": [
        "def get_eps(df, ticker,year1):\n",
        "    \n",
        "    for j in range(i,len(df.index)):\n",
        "        \n",
        "        if (df['Entry'][j] == 'EPS in Rs'):\n",
        "            eps = float(df[year1][j])\n",
        "            return eps"
      ],
      "metadata": {
        "id": "e_HwyXIfwf3m"
      },
      "execution_count": null,
      "outputs": []
    },
    {
      "cell_type": "code",
      "source": [
        "def get_pbt(df, ticker,year1):\n",
        "    \n",
        "    for j in range(i,len(df.index)):\n",
        "        if (df['Entry'][j] == 'Profit before tax'):\n",
        "            pbt = float(df[year1][j])\n",
        "            return pbt"
      ],
      "metadata": {
        "id": "zsEf_13fwieM"
      },
      "execution_count": null,
      "outputs": []
    },
    {
      "cell_type": "code",
      "source": [
        "def get_interest(df, ticker,year1):\n",
        "   \n",
        "    for j in range(i,len(df.index)):\n",
        "        \n",
        "        if (df['Entry'][j] == 'Interest'):\n",
        "            interest = float(df[year1][j])\n",
        "            return interest"
      ],
      "metadata": {
        "id": "1EmnI3XVwmDq"
      },
      "execution_count": null,
      "outputs": []
    },
    {
      "cell_type": "code",
      "source": [
        "def get_dep(df, ticker,year1):\n",
        "    \n",
        "    for j in range(i,len(df.index)):\n",
        "        \n",
        "        if (df['Entry'][j] == 'Depreciation'):\n",
        "            dep = float(df[year1][j])\n",
        "            return dep"
      ],
      "metadata": {
        "id": "2jpLxGCIwoL8"
      },
      "execution_count": null,
      "outputs": []
    },
    {
      "cell_type": "code",
      "source": [
        "def get_tax_rate(df, ticker,year1):\n",
        "    \n",
        "    for j in range(i,len(df.index)):\n",
        "        \n",
        "        if (df['Entry'][j] == 'Tax %'):\n",
        "            tax_rate = float(df[year1][j])\n",
        "            return tax_rate"
      ],
      "metadata": {
        "id": "wqdU_Xu5wq2Y"
      },
      "execution_count": null,
      "outputs": []
    },
    {
      "cell_type": "code",
      "source": [
        "def calculate_modified_piotroski_score(df, ticker, year, input_country='india'):\n",
        "    \n",
        "    global i \n",
        "    \n",
        "    for i in range(0,len(df.index)):\n",
        "        if (df['Ticker'][i] == ticker):\n",
        "            break\n",
        "    modified_p_score = 0\n",
        "\n",
        "    if input_country == 'india':\n",
        "      prev_year = 'Mar-'+str(year-2)\n",
        "      year0 = 'Mar-'+str(year-1)\n",
        "      year1 = 'Mar-'+str(year)\n",
        "      int_year1 = 2000 + int(year)\n",
        "    else:\n",
        "      prev_year = int('20'+str(year-2))\n",
        "      year0 = int('20'+str(year-1))\n",
        "      year1 = int('20'+str(year))\n",
        "      int_year1 = 2000 + int(year)\n",
        "    \n",
        "# Profitability Criteria\n",
        "    # Positive NI\n",
        "    net_inc = get_net_income(df, ticker, year1)\n",
        "    net_inc0 = get_net_income(df, ticker, year0)\n",
        "    if net_inc0 is None:\n",
        "        return (ticker,'Data not available')\n",
        "    if net_inc is None:\n",
        "        return (ticker,'Data not available')\n",
        "    \n",
        "    #Check condition\n",
        "    if net_inc > 0:\n",
        "        modified_p_score+=1\n",
        "    \n",
        "  \n",
        "    # Operating CF > NI\n",
        "    \n",
        "    ocf = get_ocf(df, ticker, year1)\n",
        "    if ocf is None:\n",
        "        return (ticker,'Data not available')\n",
        "    \n",
        "    #Check condition\n",
        "    elif ocf > net_inc:\n",
        "        modified_p_score+=1\n",
        "    \n",
        "# Leverage, Liquidity, and Source of Funds Criteria\n",
        "\n",
        "    # Lower ratio of long term debt in current year compared to last year\n",
        "    \n",
        "    stock_equity1 = get_se(df, ticker,year1)\n",
        "    stock_equity0 = get_se(df, ticker,year0)\n",
        "            \n",
        "    borrowing1 = get_borrowings(df, ticker,year1)\n",
        "    borrowing0 = get_borrowings(df, ticker,year0)\n",
        "    \n",
        "    # reserves1 = get_reserves(df, ticker,year1)\n",
        "    # reserves0 = get_reserves(df, ticker,year0)\n",
        "\n",
        "    tot_liabilities1 = get_tot_liabilities(df, ticker,year1)\n",
        "    tot_liabilities0 = get_tot_liabilities(df, ticker,year0)\n",
        "\n",
        "    long_term_debt1 = borrowing1\n",
        "    long_term_debt0 = borrowing0\n",
        "    liabilities1 = tot_liabilities1 - stock_equity1\n",
        "    liabilities0 = tot_liabilities0 - stock_equity0\n",
        "        \n",
        "    #Check condition\n",
        "    if(long_term_debt1/liabilities1 < long_term_debt0/liabilities0):\n",
        "        modified_p_score+=1\n",
        "    \n",
        "    # Higher Current Ratio\n",
        "    \n",
        "    current_liabilities1 = get_current_liabilities(df, ticker,year1)\n",
        "    current_liabilities0 = get_current_liabilities(df, ticker,year0)\n",
        "      \n",
        "    current_assets1 =get_other_assets(df, ticker,year1)\n",
        "    current_assets0 =get_other_assets(df, ticker,year0)\n",
        "    \n",
        "    current_ratio1 = current_assets1/current_liabilities1\n",
        "    if current_liabilities0 == 0:\n",
        "      current_ratio0 = 0\n",
        "    else:\n",
        "      current_ratio0 = current_assets0/current_liabilities0\n",
        "    \n",
        "    #Check condition\n",
        "    if(current_ratio1>current_ratio0):\n",
        "        modified_p_score+=1\n",
        "\n",
        "    # Net equity issuance\n",
        "    stock_equity1 = get_se(df, ticker,year1)\n",
        "    stock_equity0 = get_se(df, ticker,year0)\n",
        "    \n",
        "    #Check condition\n",
        "    if (stock_equity1<=stock_equity0):\n",
        "            modified_p_score+=1\n",
        "\n",
        "# Operating Efficiency Criteria\n",
        "\n",
        "    # Higher Gross Margin in current year compared to last year\n",
        "    \n",
        "    sales1 =get_sales(df, ticker,year1)\n",
        "    sales0 =get_sales(df, ticker,year0)\n",
        "    \n",
        "    operating_profit1 =get_operating_profit(df, ticker,year1)\n",
        "    operating_profit0 =get_operating_profit(df, ticker,year0)\n",
        "    \n",
        "    #Check condition\n",
        "    if (operating_profit0/sales0 > operating_profit1/sales1):\n",
        "            modified_p_score+=1\n",
        "    \n",
        "    # Higher Asset Turnover in current year compared to last year\n",
        "    \n",
        "    tot_assets1 =tot_liabilities1\n",
        "    tot_assets0 =tot_liabilities0\n",
        "\n",
        "    asset_turnover1 = sales1/tot_assets1\n",
        "    asset_turnover0 = sales0/tot_assets0\n",
        "        \n",
        "    #Check condition\n",
        "    if (asset_turnover0 > asset_turnover1):\n",
        "        modified_p_score+=1\n",
        "        \n",
        "# Extra Parameters added\n",
        "    # Price to Book Value < 1\n",
        "    book_value1 = tot_assets1-liabilities1\n",
        "    bvps1 = book_value1/get_shares_outstanding(df, net_inc,ticker, year1)\n",
        "    price = get_historical_price(ticker, date(int_year1,3,31), country=input_country)\n",
        "    \n",
        "    if price is None:\n",
        "        return (ticker, 'Price data not available')\n",
        "    pbv1 = price/bvps1\n",
        "\n",
        "    #Check condition\n",
        "    if (pbv1<1):\n",
        "        modified_p_score+=1\n",
        "    \n",
        "\n",
        "    # Price to Earnings < 10\n",
        "    eps = get_eps(df, ticker,year1)\n",
        "    pe = price/eps\n",
        "    \n",
        "    #Check condition\n",
        "    if pe<=10:\n",
        "        modified_p_score+=1\n",
        "        \n",
        "    # EBITDA to EV value\n",
        "    ev_value1 = get_mv(df, ticker, year, net_inc, input_country=input_country) + borrowing1 - current_assets1\n",
        "    mv0 = get_mv(df, ticker,year-1,get_net_income(df, ticker,year0), input_country=input_country)\n",
        "    if mv0 is None:\n",
        "        return (ticker, 'Price data not available')\n",
        "    else:\n",
        "        ev_value0 = mv0 + borrowing0 - current_assets0\n",
        "\n",
        "    if input_country == 'india':\n",
        "      pbt1 = get_pbt(df, ticker,year1)\n",
        "      pbt0 = get_pbt(df, ticker,year0)\n",
        "      \n",
        "      interest1 = get_interest(df, ticker,year1)\n",
        "      interest0 = get_interest(df, ticker,year0)\n",
        "      \n",
        "      dep1 = get_dep(df, ticker,year1)\n",
        "      dep0 = get_dep(df, ticker,year0)\n",
        "\n",
        "      ebitda1 = pbt1 + interest1 + dep1\n",
        "      ebitda0 = pbt0 + interest0 + dep1\n",
        "    \n",
        "      ev_ratio1 = ev_value1/ebitda1\n",
        "    \n",
        "      #Check condition    \n",
        "      if(ev_ratio1<=10):\n",
        "          modified_p_score+=1\n",
        "\n",
        "      # Free Cash Flow to Firm (FCFF)\n",
        "      ebit1 = pbt1 + interest1\n",
        "      ebit0 = pbt0 + interest0\n",
        "      \n",
        "      wc1= current_assets1 - current_liabilities1\n",
        "      wc0= current_assets0 - current_liabilities0\n",
        "      prev_wc = get_other_assets(df, ticker,prev_year) - get_current_liabilities(df, ticker,prev_year)\n",
        "      \n",
        "      tax_rate1 = get_tax_rate(df, ticker,year1)\n",
        "      tax_rate0 = get_tax_rate(df, ticker,year0)\n",
        "            \n",
        "      fcff1 = ebit1*(1-tax_rate1) + dep1 -(wc1-wc0)\n",
        "      fcff0 = ebit0*(1-tax_rate0) + dep0 -(wc0-prev_wc)\n",
        "      \n",
        "      #Check condition\n",
        "      if (fcff1-fcff0)>0:\n",
        "          modified_p_score+=1  \n",
        "    else:\n",
        "      modified_p_score = int(modified_p_score/9*11)\n",
        "\n",
        "    return (ticker, modified_p_score)\n",
        "    "
      ],
      "metadata": {
        "id": "RQlHun2pwzxK"
      },
      "execution_count": null,
      "outputs": []
    },
    {
      "cell_type": "markdown",
      "source": [
        "# Analysis of India Stocks for both original F-Score and modified F-Score"
      ],
      "metadata": {
        "id": "qKCTTjTrIn9O"
      }
    },
    {
      "cell_type": "code",
      "source": [
        "# Create a list of tickers to calculate Piotroski score for\n",
        "tickers = nifty50_tickers\n",
        "\n",
        "# Print table header\n",
        "print(f'{\"Ticker\":<10}   |{\"Piotroski Score\":<20}      |{\"Modified Piotroski Score\":<20}')\n",
        "print('-' * 70)\n",
        "\n",
        "# Loop through the tickers and calculate Piotroski score\n",
        "nifty_p_score = list()\n",
        "nifty_p_score_modified = list()\n",
        "for ticker in tickers:\n",
        "    p_score = calculate_piotroski_score(india_df, ticker, 19)\n",
        "    p_score_modified = calculate_modified_piotroski_score(india_df, ticker, 19)\n",
        "    nifty_p_score.append(p_score)\n",
        "    nifty_p_score_modified.append(p_score_modified)\n",
        "    print(f'{ticker:<10}   |   {p_score[1]:<20} |   {p_score_modified[1]:<20}')"
      ],
      "metadata": {
        "colab": {
          "base_uri": "https://localhost:8080/"
        },
        "id": "m130cyNcauEB",
        "outputId": "99ef29bc-cb7b-4328-f18e-a82bf5d9b5ad"
      },
      "execution_count": null,
      "outputs": [
        {
          "output_type": "stream",
          "name": "stdout",
          "text": [
            "Ticker       |Piotroski Score           |Modified Piotroski Score\n",
            "----------------------------------------------------------------------\n",
            "ADANIPORTS   |   7                    |   5                   \n",
            "ASIANPAINT   |   8                    |   5                   \n",
            "AXISBANK     |   6                    |   3                   \n",
            "BAJAJ-AUTO   |   5                    |   5                   \n",
            "BAJFINANCE   |   5                    |   4                   \n",
            "BAJAJFINSV   |   4                    |   4                   \n",
            "BPCL         |   5                    |   5                   \n",
            "BHARTIARTL   |   6                    |   6                   \n",
            "BRITANNIA    |   5                    |   5                   \n",
            "CIPLA        |   6                    |   5                   \n",
            "COALINDIA    |   4                    |   5                   \n",
            "DIVISLAB     |   5                    |   4                   \n",
            "DRREDDY      |   5                    |   6                   \n",
            "EICHERMOT    |   7                    |   5                   \n",
            "GAIL         |   7                    |   6                   \n",
            "GRASIM       |   3                    |   3                   \n",
            "HCLTECH      |   5                    |   4                   \n",
            "HDFCBANK     |   3                    |   3                   \n",
            "HDFCLIFE     |   5                    |   4                   \n",
            "HEROMOTOCO   |   7                    |   6                   \n",
            "HINDALCO     |   4                    |   7                   \n",
            "HINDUNILVR   |   5                    |   4                   \n",
            "HDFC         |   3                    |   4                   \n",
            "ICICIBANK    |   5                    |   4                   \n",
            "ITC          |   4                    |   4                   \n",
            "IOC          |   5                    |   6                   \n",
            "INDUSINDBK   |   4                    |   4                   \n",
            "INFY         |   5                    |   3                   \n",
            "JSWSTEEL     |   5                    |   8                   \n",
            "KOTAKBANK    |   5                    |   5                   \n",
            "LT           |   5                    |   6                   \n",
            "M&M          |   5                    |   5                   \n",
            "MARUTI       |   6                    |   4                   \n",
            "NTPC         |   8                    |   7                   \n",
            "NESTLEIND    |   6                    |   5                   \n",
            "ONGC         |   5                    |   7                   \n",
            "POWERGRID    |   7                    |   7                   \n",
            "RELIANCE     |   6                    |   4                   \n",
            "SBILIFE      |   7                    |   5                   \n",
            "SHREECEM     |   6                    |   6                   \n",
            "SBIN         |   6                    |   5                   \n",
            "SUNPHARMA    |   5                    |   3                   \n",
            "TCS          |   3                    |   3                   \n",
            "TATAMOTORS   |   7                    |   6                   \n",
            "TATASTEEL    |   5                    |   7                   \n",
            "TECHM        |   5                    |   5                   \n",
            "TITAN        |   7                    |   5                   \n",
            "UPL          |   9                    |   6                   \n",
            "ULTRACEMCO   |   8                    |   7                   \n",
            "WIPRO        |   5                    |   6                   \n"
          ]
        }
      ]
    },
    {
      "cell_type": "code",
      "source": [
        "import matplotlib.pyplot as plt\n",
        "\n",
        "# Calculate Piotroski scores for each ticker\n",
        "p_scores = [j[1] for j in nifty_p_score]\n",
        "p_scores_modified = [j[1] for j in nifty_p_score_modified]\n",
        "\n",
        "# Create a horizontal bar chart to compare Piotroski scores\n",
        "fig, ax = plt.subplots(figsize=(12, 10))\n",
        "y_pos = range(len(nifty50_tickers))\n",
        "ax.barh(y_pos, p_scores, align='center', color='blue', label='Piotroski Score')\n",
        "ax.barh(y_pos, p_scores_modified, align='center', color='orange', label='Modified Piotroski Score')\n",
        "ax.set_yticks(y_pos)\n",
        "ax.set_yticklabels(nifty50_tickers)\n",
        "ax.invert_yaxis()\n",
        "ax.set_xlabel('Score')\n",
        "ax.set_title('Comparison of Piotroski Score and Modified Piotroski Score')\n",
        "ax.legend()\n",
        "plt.show()\n"
      ],
      "metadata": {
        "id": "YOHPi4KzStnj",
        "colab": {
          "base_uri": "https://localhost:8080/",
          "height": 621
        },
        "outputId": "7e247227-3c79-4a93-d8c0-b26533dcaaf2"
      },
      "execution_count": null,
      "outputs": [
        {
          "output_type": "display_data",
          "data": {
            "text/plain": [
              "<Figure size 864x720 with 1 Axes>"
            ],
            "image/png": "[encoded data removed]"
          },
          "metadata": {
            "needs_background": "light"
          }
        }
      ]
    },
    {
      "cell_type": "code",
      "source": [
        "import matplotlib.pyplot as plt\n",
        "\n",
        "# Calculate Piotroski score for each ticker and append to list\n",
        "p_scores = [j[1] for j in nifty_p_score]\n",
        "\n",
        "# Plot histogram\n",
        "plt.hist(p_scores, bins=20, color='blue', alpha=0.5)\n",
        "plt.title('Histogram of Piotroski Scores')\n",
        "plt.xlabel('Piotroski Score')\n",
        "plt.ylabel('Frequency')\n",
        "plt.show()\n"
      ],
      "metadata": {
        "id": "N7P5gh_TUgiX",
        "colab": {
          "base_uri": "https://localhost:8080/",
          "height": 295
        },
        "outputId": "e130d527-7f51-4e22-9065-cf71b3a21eb9"
      },
      "execution_count": null,
      "outputs": [
        {
          "output_type": "display_data",
          "data": {
            "text/plain": [
              "<Figure size 432x288 with 1 Axes>"
            ],
            "image/png": "[encoded data removed]"
          },
          "metadata": {
            "needs_background": "light"
          }
        }
      ]
    },
    {
      "cell_type": "code",
      "source": [
        "import matplotlib.pyplot as plt\n",
        "\n",
        "# Calculate Piotroski score and modified Piotroski score for each ticker and append to lists\n",
        "p_scores = [j[1] for j in nifty_p_score]\n",
        "p_scores_modified = [j[1] for j in nifty_p_score_modified]\n",
        "\n",
        "# Plot scatter plot\n",
        "plt.scatter(p_scores, p_scores_modified, color='blue', alpha=0.5)\n",
        "plt.title('Scatter Plot of Piotroski Scores vs. Modified Piotroski Scores')\n",
        "plt.xlabel('Piotroski Score')\n",
        "plt.ylabel('Modified Piotroski Score')\n",
        "plt.show()\n"
      ],
      "metadata": {
        "id": "yB_pibY-dF0a",
        "colab": {
          "base_uri": "https://localhost:8080/",
          "height": 295
        },
        "outputId": "69ed8cd8-7c32-4707-b81f-4118b683f977"
      },
      "execution_count": null,
      "outputs": [
        {
          "output_type": "display_data",
          "data": {
            "text/plain": [
              "<Figure size 432x288 with 1 Axes>"
            ],
            "image/png": "[encoded data removed]"
          },
          "metadata": {
            "needs_background": "light"
          }
        }
      ]
    },
    {
      "cell_type": "code",
      "source": [
        "import seaborn as sns\n",
        "\n",
        "# Calculate Piotroski score and modified Piotroski score for each ticker and append to lists\n",
        "p_scores = [j[1] for j in nifty_p_score]\n",
        "p_scores_modified = [j[1] for j in nifty_p_score_modified]\n",
        "\n",
        "# Create a dataframe with Piotroski scores and Modified Piotroski scores\n",
        "df = pd.DataFrame({'Piotroski Score': p_scores, 'Modified Piotroski Score': p_scores_modified})\n",
        "\n",
        "# Create heatmap\n",
        "sns.heatmap(df.corr(), annot=True)\n",
        "plt.title('Correlation Heatmap of Piotroski Scores and Modified Piotroski Scores')\n",
        "plt.show()\n"
      ],
      "metadata": {
        "id": "jJuFZcpOfyc6",
        "colab": {
          "base_uri": "https://localhost:8080/",
          "height": 281
        },
        "outputId": "55d0ce47-2a56-44e3-fc34-ec5b68685707"
      },
      "execution_count": null,
      "outputs": [
        {
          "output_type": "display_data",
          "data": {
            "text/plain": [
              "<Figure size 432x288 with 2 Axes>"
            ],
            "image/png": "[encoded data removed]"
          },
          "metadata": {
            "needs_background": "light"
          }
        }
      ]
    },
    {
      "cell_type": "markdown",
      "source": [
        "# Analysis of US Stocks for both original F-Score and modified F-Score"
      ],
      "metadata": {
        "id": "aetlagQAfQs1"
      }
    },
    {
      "cell_type": "code",
      "source": [
        "# Create a list of tickers to calculate Piotroski score for\n",
        "tickers = us30_tickers\n",
        "\n",
        "# Print table header\n",
        "print(f'{\"Ticker\":<10}   |{\"Piotroski Score\":<20}      |{\"Modified Piotroski Score\":<20}')\n",
        "print('-' * 70)\n",
        "\n",
        "# Loop through the tickers and calculate Piotroski score\n",
        "us_p_score = list()\n",
        "us_p_score_modified = list()\n",
        "for ticker in tickers:\n",
        "    p_score = calculate_piotroski_score(us_df, ticker, 19, country='us')\n",
        "    p_score_modified = calculate_modified_piotroski_score(us_df, ticker, 19, input_country='us')\n",
        "    us_p_score.append(p_score)\n",
        "    us_p_score_modified.append(p_score_modified)\n",
        "    print(f'{ticker:<10}   |   {p_score[1]:<20} |   {p_score_modified[1]:<20}')"
      ],
      "metadata": {
        "colab": {
          "base_uri": "https://localhost:8080/"
        },
        "id": "6lkzwEsFzl4k",
        "outputId": "9a84ea9c-416d-4766-e8b9-bab4043831cd"
      },
      "execution_count": null,
      "outputs": [
        {
          "output_type": "stream",
          "name": "stdout",
          "text": [
            "Ticker       |Piotroski Score           |Modified Piotroski Score\n",
            "----------------------------------------------------------------------\n"
          ]
        },
        {
          "output_type": "stream",
          "name": "stderr",
          "text": [
            "<ipython-input-7-cd9392d8a4fe>:13: DeprecationWarning: cafile, capath and cadefault are deprecated, use a custom context instead.\n",
            "  response = urlopen(url, cafile=certifi.where())\n"
          ]
        },
        {
          "output_type": "stream",
          "name": "stdout",
          "text": [
            "XOM          |   8                    |   6                   \n",
            "MSFT         |   5                    |   6                   \n",
            "unh          |   6                    |   6                   \n",
            "hd           |   6                    |   6                   \n",
            "mcd          |   6                    |   6                   \n",
            "amgn         |   6                    |   6                   \n",
            "cat          |   6                    |   4                   \n",
            "hon          |   6                    |   6                   \n",
            "crm          |   7                    |   4                   \n",
            "jnj          |   6                    |   8                   \n",
            "aa           |   7                    |   4                   \n",
            "pg           |   5                    |   7                   \n",
            "wmt          |   6                    |   4                   \n",
            "nke          |   5                    |   8                   \n",
            "ko           |   6                    |   2                   \n",
            "csco         |   5                    |   6                   \n",
            "vz           |   6                    |   6                   \n",
            "exc          |   6                    |   4                   \n",
            "nue          |   8                    |   4                   \n",
            "zts          |   5                    |   6                   \n",
            "tgt          |   6                    |   7                   \n",
            "so           |   6                    |   3                   \n",
            "etn          |   7                    |   7                   \n",
            "fisv         |   7                    |   6                   \n",
            "lrcx         |   8                    |   4                   \n",
            "itw          |   7                    |   6                   \n",
            "eqix         |   6                    |   4                   \n",
            "hum          |   7                    |   6                   \n",
            "cl           |   7                    |   7                   \n",
            "mu           |   8                    |   7                   \n"
          ]
        }
      ]
    },
    {
      "cell_type": "code",
      "source": [
        "import matplotlib.pyplot as plt\n",
        "\n",
        "# Calculate Piotroski scores for each ticker\n",
        "p_scores = [j[1] for j in us_p_score]\n",
        "p_scores_modified = [j[1] for j in us_p_score_modified]\n",
        "\n",
        "# Create a horizontal bar chart to compare Piotroski scores\n",
        "fig, ax = plt.subplots(figsize=(12, 10))\n",
        "y_pos = range(len(us30_tickers))\n",
        "ax.barh(y_pos, p_scores, align='center', color='blue', label='Piotroski Score')\n",
        "ax.barh(y_pos, p_scores_modified, align='center', color='orange', label='Modified Piotroski Score')\n",
        "ax.set_yticks(y_pos)\n",
        "ax.set_yticklabels(us30_tickers)\n",
        "ax.invert_yaxis()\n",
        "ax.set_xlabel('Score')\n",
        "ax.set_title('Comparison of US Piotroski Score and Modified Piotroski Score')\n",
        "ax.legend()\n",
        "plt.show()\n"
      ],
      "metadata": {
        "id": "es5ArE2fcqHW",
        "colab": {
          "base_uri": "https://localhost:8080/",
          "height": 621
        },
        "outputId": "9d3e6116-0c6b-40ee-d060-45f60c8fc9bd"
      },
      "execution_count": null,
      "outputs": [
        {
          "output_type": "display_data",
          "data": {
            "text/plain": [
              "<Figure size 864x720 with 1 Axes>"
            ],
            "image/png": "[encoded data removed]"
          },
          "metadata": {
            "needs_background": "light"
          }
        }
      ]
    },
    {
      "cell_type": "code",
      "source": [
        "import matplotlib.pyplot as plt\n",
        "\n",
        "# Calculate Piotroski score for each ticker and append to list\n",
        "p_scores = [j[1] for j in us_p_score]\n",
        "\n",
        "# Plot histogram\n",
        "plt.hist(p_scores, bins=20, color='blue', alpha=0.5)\n",
        "plt.title('Histogram of US Piotroski Scores')\n",
        "plt.xlabel('Piotroski Score')\n",
        "plt.ylabel('Frequency')\n",
        "plt.show()\n"
      ],
      "metadata": {
        "id": "g0LKeuHocwvZ",
        "colab": {
          "base_uri": "https://localhost:8080/",
          "height": 295
        },
        "outputId": "b61c9d04-3989-4d8c-9ce9-8cad588126c2"
      },
      "execution_count": null,
      "outputs": [
        {
          "output_type": "display_data",
          "data": {
            "text/plain": [
              "<Figure size 432x288 with 1 Axes>"
            ],
            "image/png": "[encoded data removed]"
          },
          "metadata": {
            "needs_background": "light"
          }
        }
      ]
    },
    {
      "cell_type": "code",
      "source": [
        "import matplotlib.pyplot as plt\n",
        "\n",
        "# Calculate Piotroski score and modified Piotroski score for each ticker and append to lists\n",
        "p_scores = [j[1] for j in us_p_score]\n",
        "p_scores_modified = [j[1] for j in us_p_score_modified]\n",
        "\n",
        "# Plot scatter plot\n",
        "plt.scatter(p_scores, p_scores_modified, color='blue', alpha=0.5)\n",
        "plt.title('Scatter Plot of US Piotroski Scores vs. Modified Piotroski Scores')\n",
        "plt.xlabel('Piotroski Score')\n",
        "plt.ylabel('Modified Piotroski Score')\n",
        "plt.show()\n"
      ],
      "metadata": {
        "id": "HGDFH0YCUr4x",
        "colab": {
          "base_uri": "https://localhost:8080/",
          "height": 295
        },
        "outputId": "5cff24d5-af4e-4c15-866f-ada7d9ff9f5d"
      },
      "execution_count": null,
      "outputs": [
        {
          "output_type": "display_data",
          "data": {
            "text/plain": [
              "<Figure size 432x288 with 1 Axes>"
            ],
            "image/png": "[encoded data removed]"
          },
          "metadata": {
            "needs_background": "light"
          }
        }
      ]
    },
    {
      "cell_type": "code",
      "source": [
        "import seaborn as sns\n",
        "\n",
        "# Calculate Piotroski score and modified Piotroski score for each ticker and append to lists\n",
        "p_scores = [j[1] for j in us_p_score]\n",
        "p_scores_modified = [j[1] for j in us_p_score_modified]\n",
        "\n",
        "# Create a dataframe with Piotroski scores and Modified Piotroski scores\n",
        "df = pd.DataFrame({'Piotroski Score': p_scores, 'Modified Piotroski Score': p_scores_modified})\n",
        "\n",
        "# Create heatmap\n",
        "sns.heatmap(df.corr(), annot=True)\n",
        "plt.title('Correlation Heatmap of US Piotroski Scores and Modified Piotroski Scores')\n",
        "plt.show()\n"
      ],
      "metadata": {
        "id": "7KZCB54YVQXo",
        "colab": {
          "base_uri": "https://localhost:8080/",
          "height": 281
        },
        "outputId": "5173b604-ee92-4b4e-ce20-a2d7623bb486"
      },
      "execution_count": null,
      "outputs": [
        {
          "output_type": "display_data",
          "data": {
            "text/plain": [
              "<Figure size 432x288 with 2 Axes>"
            ],
            "image/png": "[encoded data removed]"
          },
          "metadata": {
            "needs_background": "light"
          }
        }
      ]
    },
    {
      "cell_type": "markdown",
      "source": [
        "The conclusion that the modified F-Score is better than the original F-Score is available in the report in greater detail. \n",
        "\n",
        "The above result also hold true for both emerging and non-emerging markets namely India and US. "
      ],
      "metadata": {
        "id": "AxyugInFfc23"
      }
    }
  ]
}